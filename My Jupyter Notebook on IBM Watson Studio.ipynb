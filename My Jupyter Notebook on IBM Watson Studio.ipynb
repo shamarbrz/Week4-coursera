{
  "metadata": {
    "language_info": {
      "codemirror_mode": {
        "name": "python",
        "version": 3
      },
      "file_extension": ".py",
      "mimetype": "text/x-python",
      "name": "python",
      "nbconvert_exporter": "python",
      "pygments_lexer": "ipython3",
      "version": "3.8"
    },
    "kernelspec": {
      "name": "python",
      "display_name": "Pyolite",
      "language": "python"
    }
  },
  "nbformat_minor": 4,
  "nbformat": 4,
  "cells": [
    {
      "cell_type": "markdown",
      "source": "# My Jupyter Notebook on IBM Watson Studio",
      "metadata": {}
    },
    {
      "cell_type": "markdown",
      "source": "Bauyrzhan Shamar \n\nForever student",
      "metadata": {}
    },
    {
      "cell_type": "markdown",
      "source": "*I am interested in data science because I want a good paid job*",
      "metadata": {}
    },
    {
      "cell_type": "markdown",
      "source": "### My code is suppose to sum 1 and 1",
      "metadata": {}
    },
    {
      "cell_type": "code",
      "source": "print(1+1)",
      "metadata": {
        "trusted": true
      },
      "execution_count": 1,
      "outputs": [
        {
          "name": "stdout",
          "text": "2\n",
          "output_type": "stream"
        }
      ]
    },
    {
      "cell_type": "markdown",
      "source": "***\n\nHorizontal rule\n\n***\n\n* a bullet list\n* a bullet list\n1. a numbered list\n2. a numbered list\n\nheader| header\n--- | --- |\nrow1|row1\nrow2|row2\n\n<a href=\"https://www.youtube.com/watch?v=dQw4w9WgXcQ\" target=\"_blank\">hyperlink</a>\n\n`code highliting`\n",
      "metadata": {}
    }
  ]
}